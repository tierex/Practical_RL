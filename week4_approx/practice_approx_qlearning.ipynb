{
 "cells": [
  {
   "cell_type": "markdown",
   "metadata": {},
   "source": [
    "# Approximate q-learning\n",
    "\n",
    "In this notebook you will teach a __tensorflow__ neural network to do Q-learning."
   ]
  },
  {
   "cell_type": "markdown",
   "metadata": {},
   "source": [
    "__Frameworks__ - we'll accept this homework in any deep learning framework. This particular notebook was designed for tensorflow, but you will find it easy to adapt it to almost any python-based deep learning framework."
   ]
  },
  {
   "cell_type": "code",
   "execution_count": 1,
   "metadata": {},
   "outputs": [
    {
     "name": "stdout",
     "output_type": "stream",
     "text": [
      "Starting virtual X frame buffer: Xvfb../xvfb: line 8: start-stop-daemon: command not found\n",
      ".\n",
      "env: DISPLAY=:1\n"
     ]
    }
   ],
   "source": [
    "#XVFB will be launched if you run on a server\n",
    "import os\n",
    "if os.environ.get(\"DISPLAY\") is not str or len(os.environ.get(\"DISPLAY\"))==0:\n",
    "    !bash ../xvfb start\n",
    "    %env DISPLAY=:1"
   ]
  },
  {
   "cell_type": "code",
   "execution_count": 2,
   "metadata": {},
   "outputs": [],
   "source": [
    "import gym\n",
    "import numpy as np\n",
    "import pandas as pd\n",
    "import matplotlib.pyplot as plt\n",
    "%matplotlib inline"
   ]
  },
  {
   "cell_type": "code",
   "execution_count": 22,
   "metadata": {
    "scrolled": false
   },
   "outputs": [
    {
     "name": "stdout",
     "output_type": "stream",
     "text": [
      "\u001b[33mWARN: gym.spaces.Box autodetected dtype as <class 'numpy.float32'>. Please provide explicit dtype.\u001b[0m\n"
     ]
    },
    {
     "name": "stderr",
     "output_type": "stream",
     "text": [
      "/Users/aivanou/anaconda3/envs/python3_rl/lib/python3.6/site-packages/gym/envs/registration.py:14: PkgResourcesDeprecationWarning: Parameters to load are deprecated.  Call .resolve and .require separately.\n",
      "  result = entry_point.load(False)\n"
     ]
    },
    {
     "data": {
      "text/plain": [
       "<matplotlib.image.AxesImage at 0xb35f72be0>"
      ]
     },
     "execution_count": 22,
     "metadata": {},
     "output_type": "execute_result"
    },
    {
     "data": {
      "image/png": "[encoded data removed]",
      "text/plain": [
       "<Figure size 432x288 with 1 Axes>"
      ]
     },
     "metadata": {
      "needs_background": "light"
     },
     "output_type": "display_data"
    }
   ],
   "source": [
    "# env = gym.make(\"CartPole-v1\").env\n",
    "env = gym.make(\"Acrobot-v1\").env\n",
    "env.reset()\n",
    "n_actions = env.action_space.n\n",
    "state_dim = env.observation_space.shape\n",
    "\n",
    "plt.imshow(env.render(\"rgb_array\"))"
   ]
  },
  {
   "cell_type": "code",
   "execution_count": 23,
   "metadata": {},
   "outputs": [
    {
     "name": "stdout",
     "output_type": "stream",
     "text": [
      "3 (6,)\n"
     ]
    }
   ],
   "source": [
    "print(n_actions, state_dim)"
   ]
  },
  {
   "cell_type": "markdown",
   "metadata": {},
   "source": [
    "# Approximate (deep) Q-learning: building the network\n",
    "\n",
    "To train a neural network policy one must have a neural network policy. Let's build it.\n",
    "\n",
    "\n",
    "Since we're working with a pre-extracted features (cart positions, angles and velocities), we don't need a complicated network yet. In fact, let's build something like this for starters:\n",
    "\n",
    "![img](https://s14.postimg.org/uzay2q5rl/qlearning_scheme.png)\n",
    "\n",
    "For your first run, please only use linear layers (L.Dense) and activations. Stuff like batch normalization or dropout may ruin everything if used haphazardly. \n",
    "\n",
    "Also please avoid using nonlinearities like sigmoid & tanh: agent's observations are not normalized so sigmoids may become saturated from init.\n",
    "\n",
    "Ideally you should start small with maybe 1-2 hidden layers with < 200 neurons and then increase network size if agent doesn't beat the target score."
   ]
  },
  {
   "cell_type": "code",
   "execution_count": 24,
   "metadata": {},
   "outputs": [
    {
     "name": "stderr",
     "output_type": "stream",
     "text": [
      "/Users/aivanou/anaconda3/envs/python3_rl/lib/python3.6/site-packages/tensorflow/python/client/session.py:1645: UserWarning: An interactive session is already active. This can cause out-of-memory errors in some cases. You must explicitly call `InteractiveSession.close()` to release resources held by the other session(s).\n",
      "  warnings.warn('An interactive session is already active. This can '\n"
     ]
    }
   ],
   "source": [
    "import tensorflow as tf\n",
    "import keras\n",
    "import keras.layers as L\n",
    "tf.reset_default_graph()\n",
    "sess = tf.InteractiveSession()\n",
    "keras.backend.set_session(sess)"
   ]
  },
  {
   "cell_type": "code",
   "execution_count": 25,
   "metadata": {},
   "outputs": [
    {
     "name": "stdout",
     "output_type": "stream",
     "text": [
      "2.2.4\n",
      "1.10.0\n"
     ]
    }
   ],
   "source": [
    "print(keras.__version__)\n",
    "print(tf.__version__)"
   ]
  },
  {
   "cell_type": "code",
   "execution_count": 26,
   "metadata": {},
   "outputs": [],
   "source": [
    "network = keras.models.Sequential()\n",
    "network.add(L.InputLayer(state_dim))\n",
    "\n",
    "# let's create a network for approximate q-learning following guidelines above\n",
    "network.add(keras.layers.Dense(units=100, activation=keras.activations.relu))\n",
    "network.add(keras.layers.Dense(units=100, activation=keras.activations.relu))\n",
    "network.add(keras.layers.Dense(units=n_actions, activation=keras.activations.linear))"
   ]
  },
  {
   "cell_type": "code",
   "execution_count": 27,
   "metadata": {},
   "outputs": [],
   "source": [
    "def get_action(state, epsilon=0):\n",
    "    \"\"\"\n",
    "    sample actions with epsilon-greedy policy\n",
    "    recap: with p = epsilon pick random action, else pick action with highest Q(s,a)\n",
    "    \"\"\"\n",
    "    \n",
    "    q_values = network.predict(state[None])[0]\n",
    "    \n",
    "    ###YOUR CODE\n",
    "    \n",
    "    probs = np.ones(len(q_values))*epsilon/len(q_values)\n",
    "    best_action = q_values.argmax()\n",
    "    probs[best_action] += (1-epsilon)\n",
    "    \n",
    "    return np.random.choice(len(q_values), p=probs)\n"
   ]
  },
  {
   "cell_type": "code",
   "execution_count": 28,
   "metadata": {},
   "outputs": [
    {
     "name": "stdout",
     "output_type": "stream",
     "text": [
      "[ 0.2111533   0.11500508 -0.07959116]\n",
      "[0.8 0.1 0.1]\n"
     ]
    }
   ],
   "source": [
    "s=env.reset()\n",
    "q_values = network.predict(s[None])[0]\n",
    "print(q_values)\n",
    "e = 0.3\n",
    "probs = np.ones(len(q_values))*e/len(q_values)\n",
    "best_action = q_values.argmax()\n",
    "probs[best_action] += (1-e)\n",
    "print(probs)\n"
   ]
  },
  {
   "cell_type": "code",
   "execution_count": 33,
   "metadata": {},
   "outputs": [
    {
     "name": "stdout",
     "output_type": "stream",
     "text": [
      "e=0.0 tests passed\n",
      "e=0.1 tests passed\n",
      "e=0.5 tests passed\n",
      "e=1.0 tests passed\n"
     ]
    }
   ],
   "source": [
    "assert network.output_shape == (None, n_actions), \"please make sure your model maps state s -> [Q(s,a0), ..., Q(s, a_last)]\"\n",
    "assert network.layers[-1].activation == keras.activations.linear, \"please make sure you predict q-values without nonlinearity\"\n",
    "\n",
    "# test epsilon-greedy exploration\n",
    "s = env.reset()\n",
    "assert np.shape(get_action(s)) == (), \"please return just one action (integer)\"\n",
    "for eps in [0., 0.1, 0.5, 1.0]:\n",
    "    state_frequencies = np.bincount([get_action(s, epsilon=eps) for i in range(10000)], minlength=n_actions)\n",
    "    best_action = state_frequencies.argmax()\n",
    "    assert abs(state_frequencies[best_action] - 10000 * (1 - eps + eps / n_actions)) < 200\n",
    "    for other_action in range(n_actions):\n",
    "        if other_action != best_action:\n",
    "            assert abs(state_frequencies[other_action] - 10000 * (eps / n_actions)) < 200\n",
    "    print('e=%.1f tests passed'%eps)"
   ]
  },
  {
   "cell_type": "markdown",
   "metadata": {},
   "source": [
    "### Q-learning via gradient descent\n",
    "\n",
    "We shall now train our agent's Q-function by minimizing the TD loss:\n",
    "$$ L = { 1 \\over N} \\sum_i (Q_{\\theta}(s,a) - [r(s,a) + \\gamma \\cdot max_{a'} Q_{-}(s', a')]) ^2 $$\n",
    "\n",
    "\n",
    "Where\n",
    "* $s, a, r, s'$ are current state, action, reward and next state respectively\n",
    "* $\\gamma$ is a discount factor defined two cells above.\n",
    "\n",
    "The tricky part is with  $Q_{-}(s',a')$. From an engineering standpoint, it's the same as $Q_{\\theta}$ - the output of your neural network policy. However, when doing gradient descent, __we won't propagate gradients through it__ to make training more stable (see lectures).\n",
    "\n",
    "To do so, we shall use `tf.stop_gradient` function which basically says \"consider this thing constant when doingbackprop\"."
   ]
  },
  {
   "cell_type": "code",
   "execution_count": 29,
   "metadata": {},
   "outputs": [],
   "source": [
    "# Create placeholders for the <s, a, r, s'> tuple and a special indicator for game end (is_done = True)\n",
    "states_ph = keras.backend.placeholder(dtype='float32', shape=(None,) + state_dim)\n",
    "actions_ph = keras.backend.placeholder(dtype='int32', shape=[None])\n",
    "rewards_ph = keras.backend.placeholder(dtype='float32', shape=[None])\n",
    "next_states_ph = keras.backend.placeholder(dtype='float32', shape=(None,) + state_dim)\n",
    "is_done_ph = keras.backend.placeholder(dtype='bool', shape=[None])"
   ]
  },
  {
   "cell_type": "code",
   "execution_count": 30,
   "metadata": {},
   "outputs": [],
   "source": [
    "#get q-values for all actions in current states\n",
    "predicted_qvalues = network(states_ph)\n",
    "\n",
    "#select q-values for chosen actions\n",
    "predicted_qvalues_for_actions = tf.reduce_sum(predicted_qvalues * tf.one_hot(actions_ph, n_actions), axis=1)"
   ]
  },
  {
   "cell_type": "code",
   "execution_count": 31,
   "metadata": {},
   "outputs": [],
   "source": [
    "gamma = 0.99\n",
    "\n",
    "# compute q-values for all actions in next states\n",
    "predicted_next_qvalues = network(next_states_ph)\n",
    "\n",
    "# compute V*(next_states) using predicted next q-values\n",
    "next_state_values = tf.reduce_max(predicted_next_qvalues, axis=1)\n",
    "\n",
    "# compute \"target q-values\" for loss - it's what's inside square parentheses in the above formula.\n",
    "target_qvalues_for_actions = rewards_ph + gamma*next_state_values\n",
    "\n",
    "# at the last state we shall use simplified formula: Q(s,a) = r(s,a) since s' doesn't exist\n",
    "target_qvalues_for_actions = tf.where(is_done_ph, rewards_ph, target_qvalues_for_actions)"
   ]
  },
  {
   "cell_type": "code",
   "execution_count": 32,
   "metadata": {},
   "outputs": [],
   "source": [
    "#mean squared error loss to minimize\n",
    "loss = (predicted_qvalues_for_actions - tf.stop_gradient(target_qvalues_for_actions)) ** 2\n",
    "loss = tf.reduce_mean(loss)\n",
    "\n",
    "# training function that resembles agent.update(state, action, reward, next_state) from tabular agent\n",
    "train_step = tf.train.AdamOptimizer(1e-4).minimize(loss)"
   ]
  },
  {
   "cell_type": "code",
   "execution_count": 33,
   "metadata": {},
   "outputs": [],
   "source": [
    "assert tf.gradients(loss, [predicted_qvalues_for_actions])[0] is not None, \"make sure you update q-values for chosen actions and not just all actions\"\n",
    "assert tf.gradients(loss, [predicted_next_qvalues])[0] is None, \"make sure you don't propagate gradient w.r.t. Q_(s',a')\"\n",
    "assert predicted_next_qvalues.shape.ndims == 2, \"make sure you predicted q-values for all actions in next state\"\n",
    "assert next_state_values.shape.ndims == 1, \"make sure you computed V(s') as maximum over just the actions axis and not all axes\"\n",
    "assert target_qvalues_for_actions.shape.ndims == 1, \"there's something wrong with target q-values, they must be a vector\""
   ]
  },
  {
   "cell_type": "markdown",
   "metadata": {},
   "source": [
    "### Playing the game"
   ]
  },
  {
   "cell_type": "code",
   "execution_count": 34,
   "metadata": {},
   "outputs": [],
   "source": [
    "def generate_session(t_max=1000, epsilon=0, train=False):\n",
    "    \"\"\"play env with approximate q-learning agent and train it at the same time\"\"\"\n",
    "    total_reward = 0\n",
    "    s = env.reset()\n",
    "    \n",
    "    for t in range(t_max):\n",
    "        a = get_action(s, epsilon=epsilon)       \n",
    "        next_s, r, done, _ = env.step(a)\n",
    "        \n",
    "        if train:\n",
    "            sess.run(train_step,{\n",
    "                states_ph: [s], actions_ph: [a], rewards_ph: [r], \n",
    "                next_states_ph: [next_s], is_done_ph: [done]\n",
    "            })\n",
    "\n",
    "        total_reward += r\n",
    "        s = next_s\n",
    "        if done: break\n",
    "            \n",
    "    return total_reward"
   ]
  },
  {
   "cell_type": "code",
   "execution_count": 57,
   "metadata": {},
   "outputs": [],
   "source": [
    "epsilon = 0.5"
   ]
  },
  {
   "cell_type": "code",
   "execution_count": 58,
   "metadata": {
    "scrolled": true
   },
   "outputs": [
    {
     "name": "stdout",
     "output_type": "stream",
     "text": [
      "epoch #0\tmean reward = -187.150\tepsilon = 0.500\n",
      "epoch #1\tmean reward = -176.950\tepsilon = 0.495\n",
      "epoch #2\tmean reward = -167.180\tepsilon = 0.490\n",
      "epoch #3\tmean reward = -158.330\tepsilon = 0.485\n",
      "epoch #4\tmean reward = -161.500\tepsilon = 0.480\n",
      "epoch #5\tmean reward = -157.260\tepsilon = 0.475\n",
      "epoch #6\tmean reward = -160.490\tepsilon = 0.471\n",
      "epoch #7\tmean reward = -162.890\tepsilon = 0.466\n",
      "epoch #8\tmean reward = -154.090\tepsilon = 0.461\n",
      "epoch #9\tmean reward = -149.430\tepsilon = 0.457\n",
      "epoch #10\tmean reward = -155.620\tepsilon = 0.452\n",
      "epoch #11\tmean reward = -147.660\tepsilon = 0.448\n",
      "epoch #12\tmean reward = -149.480\tepsilon = 0.443\n",
      "epoch #13\tmean reward = -135.320\tepsilon = 0.439\n",
      "epoch #14\tmean reward = -147.510\tepsilon = 0.434\n",
      "epoch #15\tmean reward = -144.770\tepsilon = 0.430\n",
      "epoch #16\tmean reward = -140.270\tepsilon = 0.426\n",
      "epoch #17\tmean reward = -135.840\tepsilon = 0.421\n",
      "epoch #18\tmean reward = -137.550\tepsilon = 0.417\n",
      "epoch #19\tmean reward = -140.990\tepsilon = 0.413\n",
      "epoch #20\tmean reward = -134.920\tepsilon = 0.409\n",
      "epoch #21\tmean reward = -133.240\tepsilon = 0.405\n",
      "epoch #22\tmean reward = -129.800\tepsilon = 0.401\n",
      "epoch #23\tmean reward = -134.550\tepsilon = 0.397\n",
      "epoch #24\tmean reward = -132.340\tepsilon = 0.393\n",
      "epoch #25\tmean reward = -130.680\tepsilon = 0.389\n",
      "epoch #26\tmean reward = -123.830\tepsilon = 0.385\n",
      "epoch #27\tmean reward = -127.460\tepsilon = 0.381\n",
      "epoch #28\tmean reward = -127.390\tepsilon = 0.377\n",
      "epoch #29\tmean reward = -134.400\tepsilon = 0.374\n",
      "epoch #30\tmean reward = -123.280\tepsilon = 0.370\n",
      "epoch #31\tmean reward = -124.860\tepsilon = 0.366\n",
      "epoch #32\tmean reward = -123.220\tepsilon = 0.362\n",
      "epoch #33\tmean reward = -123.820\tepsilon = 0.359\n",
      "epoch #34\tmean reward = -124.910\tepsilon = 0.355\n",
      "epoch #35\tmean reward = -120.820\tepsilon = 0.352\n",
      "epoch #36\tmean reward = -126.360\tepsilon = 0.348\n",
      "epoch #37\tmean reward = -123.750\tepsilon = 0.345\n",
      "epoch #38\tmean reward = -124.470\tepsilon = 0.341\n",
      "epoch #39\tmean reward = -128.170\tepsilon = 0.338\n",
      "epoch #40\tmean reward = -125.640\tepsilon = 0.334\n",
      "epoch #41\tmean reward = -115.390\tepsilon = 0.331\n",
      "epoch #42\tmean reward = -128.440\tepsilon = 0.328\n",
      "epoch #43\tmean reward = -118.930\tepsilon = 0.325\n",
      "epoch #44\tmean reward = -116.080\tepsilon = 0.321\n",
      "epoch #45\tmean reward = -119.150\tepsilon = 0.318\n",
      "epoch #46\tmean reward = -120.430\tepsilon = 0.315\n",
      "epoch #47\tmean reward = -120.160\tepsilon = 0.312\n",
      "epoch #48\tmean reward = -115.460\tepsilon = 0.309\n",
      "epoch #49\tmean reward = -115.150\tepsilon = 0.306\n",
      "epoch #50\tmean reward = -115.460\tepsilon = 0.303\n",
      "epoch #51\tmean reward = -116.230\tepsilon = 0.299\n",
      "epoch #52\tmean reward = -115.640\tepsilon = 0.296\n",
      "epoch #53\tmean reward = -115.910\tepsilon = 0.294\n",
      "epoch #54\tmean reward = -110.480\tepsilon = 0.291\n",
      "epoch #55\tmean reward = -112.840\tepsilon = 0.288\n",
      "epoch #56\tmean reward = -110.280\tepsilon = 0.285\n",
      "epoch #57\tmean reward = -110.420\tepsilon = 0.282\n",
      "epoch #58\tmean reward = -118.290\tepsilon = 0.279\n",
      "epoch #59\tmean reward = -114.380\tepsilon = 0.276\n",
      "epoch #60\tmean reward = -109.810\tepsilon = 0.274\n",
      "epoch #61\tmean reward = -109.320\tepsilon = 0.271\n",
      "epoch #62\tmean reward = -110.310\tepsilon = 0.268\n",
      "epoch #63\tmean reward = -108.330\tepsilon = 0.265\n",
      "epoch #64\tmean reward = -111.790\tepsilon = 0.263\n",
      "epoch #65\tmean reward = -108.580\tepsilon = 0.260\n",
      "epoch #66\tmean reward = -104.640\tepsilon = 0.258\n",
      "epoch #67\tmean reward = -107.080\tepsilon = 0.255\n",
      "epoch #68\tmean reward = -105.290\tepsilon = 0.252\n",
      "epoch #69\tmean reward = -114.980\tepsilon = 0.250\n",
      "epoch #70\tmean reward = -106.440\tepsilon = 0.247\n",
      "epoch #71\tmean reward = -108.310\tepsilon = 0.245\n",
      "epoch #72\tmean reward = -111.490\tepsilon = 0.242\n",
      "epoch #73\tmean reward = -103.200\tepsilon = 0.240\n",
      "epoch #74\tmean reward = -111.660\tepsilon = 0.238\n",
      "epoch #75\tmean reward = -105.750\tepsilon = 0.235\n",
      "epoch #76\tmean reward = -103.720\tepsilon = 0.233\n",
      "epoch #77\tmean reward = -105.490\tepsilon = 0.231\n",
      "epoch #78\tmean reward = -105.090\tepsilon = 0.228\n",
      "epoch #79\tmean reward = -105.240\tepsilon = 0.226\n",
      "epoch #80\tmean reward = -106.020\tepsilon = 0.224\n",
      "epoch #81\tmean reward = -101.090\tepsilon = 0.222\n",
      "epoch #82\tmean reward = -103.470\tepsilon = 0.219\n",
      "epoch #83\tmean reward = -101.040\tepsilon = 0.217\n",
      "epoch #84\tmean reward = -100.600\tepsilon = 0.215\n",
      "epoch #85\tmean reward = -99.970\tepsilon = 0.213\n",
      "epoch #86\tmean reward = -106.700\tepsilon = 0.211\n",
      "epoch #87\tmean reward = -98.870\tepsilon = 0.209\n",
      "epoch #88\tmean reward = -100.230\tepsilon = 0.206\n",
      "epoch #89\tmean reward = -105.600\tepsilon = 0.204\n",
      "epoch #90\tmean reward = -102.270\tepsilon = 0.202\n",
      "epoch #91\tmean reward = -98.800\tepsilon = 0.200\n",
      "epoch #92\tmean reward = -100.100\tepsilon = 0.198\n",
      "epoch #93\tmean reward = -101.590\tepsilon = 0.196\n",
      "epoch #94\tmean reward = -98.910\tepsilon = 0.194\n",
      "epoch #95\tmean reward = -98.010\tepsilon = 0.192\n",
      "epoch #96\tmean reward = -97.880\tepsilon = 0.191\n",
      "epoch #97\tmean reward = -99.270\tepsilon = 0.189\n",
      "epoch #98\tmean reward = -100.090\tepsilon = 0.187\n",
      "epoch #99\tmean reward = -96.150\tepsilon = 0.185\n",
      "epoch #100\tmean reward = -98.180\tepsilon = 0.183\n",
      "epoch #101\tmean reward = -98.770\tepsilon = 0.181\n",
      "epoch #102\tmean reward = -100.860\tepsilon = 0.179\n",
      "epoch #103\tmean reward = -96.110\tepsilon = 0.178\n",
      "epoch #104\tmean reward = -94.530\tepsilon = 0.176\n",
      "epoch #105\tmean reward = -95.220\tepsilon = 0.174\n",
      "epoch #106\tmean reward = -96.380\tepsilon = 0.172\n",
      "epoch #107\tmean reward = -98.870\tepsilon = 0.171\n",
      "epoch #108\tmean reward = -96.220\tepsilon = 0.169\n",
      "epoch #109\tmean reward = -102.280\tepsilon = 0.167\n",
      "epoch #110\tmean reward = -98.830\tepsilon = 0.166\n",
      "epoch #111\tmean reward = -97.150\tepsilon = 0.164\n",
      "epoch #112\tmean reward = -95.780\tepsilon = 0.162\n",
      "epoch #113\tmean reward = -100.520\tepsilon = 0.161\n",
      "epoch #114\tmean reward = -96.590\tepsilon = 0.159\n",
      "epoch #115\tmean reward = -96.710\tepsilon = 0.157\n",
      "epoch #116\tmean reward = -92.840\tepsilon = 0.156\n",
      "epoch #117\tmean reward = -94.980\tepsilon = 0.154\n",
      "epoch #118\tmean reward = -96.820\tepsilon = 0.153\n",
      "epoch #119\tmean reward = -94.560\tepsilon = 0.151\n",
      "epoch #120\tmean reward = -97.660\tepsilon = 0.150\n",
      "epoch #121\tmean reward = -94.660\tepsilon = 0.148\n",
      "epoch #122\tmean reward = -92.440\tepsilon = 0.147\n",
      "epoch #123\tmean reward = -95.030\tepsilon = 0.145\n",
      "epoch #124\tmean reward = -96.340\tepsilon = 0.144\n",
      "epoch #125\tmean reward = -91.350\tepsilon = 0.142\n",
      "epoch #126\tmean reward = -97.210\tepsilon = 0.141\n",
      "epoch #127\tmean reward = -90.110\tepsilon = 0.140\n",
      "epoch #128\tmean reward = -94.090\tepsilon = 0.138\n",
      "epoch #129\tmean reward = -95.500\tepsilon = 0.137\n",
      "epoch #130\tmean reward = -92.440\tepsilon = 0.135\n",
      "epoch #131\tmean reward = -89.280\tepsilon = 0.134\n",
      "epoch #132\tmean reward = -89.210\tepsilon = 0.133\n",
      "epoch #133\tmean reward = -89.480\tepsilon = 0.131\n",
      "epoch #134\tmean reward = -88.040\tepsilon = 0.130\n",
      "epoch #135\tmean reward = -96.300\tepsilon = 0.129\n",
      "epoch #136\tmean reward = -88.890\tepsilon = 0.127\n",
      "epoch #137\tmean reward = -92.970\tepsilon = 0.126\n",
      "epoch #138\tmean reward = -88.600\tepsilon = 0.125\n",
      "epoch #139\tmean reward = -91.420\tepsilon = 0.124\n",
      "epoch #140\tmean reward = -94.840\tepsilon = 0.122\n",
      "epoch #141\tmean reward = -93.270\tepsilon = 0.121\n",
      "epoch #142\tmean reward = -90.360\tepsilon = 0.120\n",
      "epoch #143\tmean reward = -90.050\tepsilon = 0.119\n",
      "epoch #144\tmean reward = -93.300\tepsilon = 0.118\n",
      "epoch #145\tmean reward = -89.300\tepsilon = 0.116\n",
      "epoch #146\tmean reward = -89.870\tepsilon = 0.115\n",
      "epoch #147\tmean reward = -91.180\tepsilon = 0.114\n",
      "epoch #148\tmean reward = -92.970\tepsilon = 0.113\n",
      "epoch #149\tmean reward = -91.920\tepsilon = 0.112\n",
      "epoch #150\tmean reward = -91.570\tepsilon = 0.111\n",
      "epoch #151\tmean reward = -86.280\tepsilon = 0.110\n",
      "epoch #152\tmean reward = -89.450\tepsilon = 0.109\n",
      "epoch #153\tmean reward = -87.190\tepsilon = 0.107\n",
      "epoch #154\tmean reward = -91.180\tepsilon = 0.106\n",
      "epoch #155\tmean reward = -86.040\tepsilon = 0.105\n",
      "epoch #156\tmean reward = -86.110\tepsilon = 0.104\n",
      "epoch #157\tmean reward = -92.050\tepsilon = 0.103\n",
      "epoch #158\tmean reward = -86.800\tepsilon = 0.102\n",
      "epoch #159\tmean reward = -89.730\tepsilon = 0.101\n",
      "epoch #160\tmean reward = -89.790\tepsilon = 0.100\n",
      "epoch #161\tmean reward = -94.740\tepsilon = 0.099\n",
      "epoch #162\tmean reward = -89.910\tepsilon = 0.098\n",
      "epoch #163\tmean reward = -88.300\tepsilon = 0.097\n",
      "epoch #164\tmean reward = -94.290\tepsilon = 0.096\n",
      "epoch #165\tmean reward = -93.800\tepsilon = 0.095\n",
      "epoch #166\tmean reward = -87.880\tepsilon = 0.094\n",
      "epoch #167\tmean reward = -90.200\tepsilon = 0.093\n"
     ]
    },
    {
     "name": "stdout",
     "output_type": "stream",
     "text": [
      "epoch #168\tmean reward = -87.850\tepsilon = 0.092\n",
      "epoch #169\tmean reward = -88.330\tepsilon = 0.091\n",
      "epoch #170\tmean reward = -86.740\tepsilon = 0.091\n",
      "epoch #171\tmean reward = -88.190\tepsilon = 0.090\n",
      "epoch #172\tmean reward = -86.430\tepsilon = 0.089\n",
      "epoch #173\tmean reward = -84.510\tepsilon = 0.088\n",
      "epoch #174\tmean reward = -88.710\tepsilon = 0.087\n",
      "epoch #175\tmean reward = -87.240\tepsilon = 0.086\n",
      "epoch #176\tmean reward = -88.940\tepsilon = 0.085\n",
      "epoch #177\tmean reward = -89.820\tepsilon = 0.084\n",
      "epoch #178\tmean reward = -91.990\tepsilon = 0.084\n",
      "epoch #179\tmean reward = -91.140\tepsilon = 0.083\n",
      "epoch #180\tmean reward = -89.930\tepsilon = 0.082\n",
      "epoch #181\tmean reward = -86.060\tepsilon = 0.081\n",
      "epoch #182\tmean reward = -84.660\tepsilon = 0.080\n",
      "epoch #183\tmean reward = -86.630\tepsilon = 0.079\n",
      "epoch #184\tmean reward = -83.110\tepsilon = 0.079\n",
      "epoch #185\tmean reward = -82.210\tepsilon = 0.078\n",
      "epoch #186\tmean reward = -88.900\tepsilon = 0.077\n",
      "epoch #187\tmean reward = -86.370\tepsilon = 0.076\n",
      "epoch #188\tmean reward = -83.480\tepsilon = 0.076\n",
      "epoch #189\tmean reward = -89.050\tepsilon = 0.075\n",
      "epoch #190\tmean reward = -85.520\tepsilon = 0.074\n",
      "epoch #191\tmean reward = -83.070\tepsilon = 0.073\n",
      "epoch #192\tmean reward = -84.320\tepsilon = 0.073\n",
      "epoch #193\tmean reward = -88.120\tepsilon = 0.072\n",
      "epoch #194\tmean reward = -88.340\tepsilon = 0.071\n",
      "epoch #195\tmean reward = -90.780\tepsilon = 0.070\n",
      "epoch #196\tmean reward = -84.950\tepsilon = 0.070\n",
      "epoch #197\tmean reward = -86.440\tepsilon = 0.069\n",
      "epoch #198\tmean reward = -81.230\tepsilon = 0.068\n",
      "epoch #199\tmean reward = -86.450\tepsilon = 0.068\n",
      "epoch #200\tmean reward = -88.550\tepsilon = 0.067\n",
      "epoch #201\tmean reward = -84.330\tepsilon = 0.066\n",
      "epoch #202\tmean reward = -87.280\tepsilon = 0.066\n",
      "epoch #203\tmean reward = -83.910\tepsilon = 0.065\n",
      "epoch #204\tmean reward = -84.090\tepsilon = 0.064\n",
      "epoch #205\tmean reward = -87.190\tepsilon = 0.064\n",
      "epoch #206\tmean reward = -84.040\tepsilon = 0.063\n",
      "epoch #207\tmean reward = -90.130\tepsilon = 0.062\n",
      "epoch #208\tmean reward = -87.490\tepsilon = 0.062\n",
      "epoch #209\tmean reward = -83.830\tepsilon = 0.061\n",
      "epoch #210\tmean reward = -84.190\tepsilon = 0.061\n",
      "epoch #211\tmean reward = -87.620\tepsilon = 0.060\n",
      "epoch #212\tmean reward = -90.930\tepsilon = 0.059\n",
      "epoch #213\tmean reward = -84.490\tepsilon = 0.059\n",
      "epoch #214\tmean reward = -80.920\tepsilon = 0.058\n",
      "epoch #215\tmean reward = -82.480\tepsilon = 0.058\n",
      "epoch #216\tmean reward = -81.890\tepsilon = 0.057\n",
      "epoch #217\tmean reward = -84.570\tepsilon = 0.056\n",
      "epoch #218\tmean reward = -81.330\tepsilon = 0.056\n",
      "epoch #219\tmean reward = -80.480\tepsilon = 0.055\n",
      "epoch #220\tmean reward = -84.890\tepsilon = 0.055\n",
      "epoch #221\tmean reward = -85.390\tepsilon = 0.054\n",
      "epoch #222\tmean reward = -89.810\tepsilon = 0.054\n",
      "epoch #223\tmean reward = -86.730\tepsilon = 0.053\n",
      "epoch #224\tmean reward = -82.440\tepsilon = 0.053\n",
      "epoch #225\tmean reward = -82.790\tepsilon = 0.052\n",
      "epoch #226\tmean reward = -83.790\tepsilon = 0.052\n",
      "epoch #227\tmean reward = -83.450\tepsilon = 0.051\n",
      "epoch #228\tmean reward = -81.730\tepsilon = 0.051\n",
      "epoch #229\tmean reward = -83.870\tepsilon = 0.050\n",
      "epoch #230\tmean reward = -84.410\tepsilon = 0.050\n",
      "epoch #231\tmean reward = -84.560\tepsilon = 0.049\n",
      "epoch #232\tmean reward = -86.180\tepsilon = 0.049\n",
      "epoch #233\tmean reward = -82.520\tepsilon = 0.048\n",
      "epoch #234\tmean reward = -87.240\tepsilon = 0.048\n",
      "epoch #235\tmean reward = -79.290\tepsilon = 0.047\n",
      "epoch #236\tmean reward = -87.250\tepsilon = 0.047\n",
      "epoch #237\tmean reward = -81.790\tepsilon = 0.046\n",
      "epoch #238\tmean reward = -84.060\tepsilon = 0.046\n",
      "epoch #239\tmean reward = -89.700\tepsilon = 0.045\n",
      "epoch #240\tmean reward = -84.140\tepsilon = 0.045\n",
      "epoch #241\tmean reward = -83.800\tepsilon = 0.044\n",
      "epoch #242\tmean reward = -84.500\tepsilon = 0.044\n",
      "epoch #243\tmean reward = -81.850\tepsilon = 0.043\n",
      "epoch #244\tmean reward = -83.110\tepsilon = 0.043\n",
      "epoch #245\tmean reward = -80.840\tepsilon = 0.043\n",
      "epoch #246\tmean reward = -82.460\tepsilon = 0.042\n",
      "epoch #247\tmean reward = -83.260\tepsilon = 0.042\n",
      "epoch #248\tmean reward = -81.880\tepsilon = 0.041\n",
      "epoch #249\tmean reward = -88.050\tepsilon = 0.041\n",
      "epoch #250\tmean reward = -83.200\tepsilon = 0.041\n",
      "epoch #251\tmean reward = -84.810\tepsilon = 0.040\n",
      "epoch #252\tmean reward = -83.040\tepsilon = 0.040\n",
      "epoch #253\tmean reward = -81.510\tepsilon = 0.039\n",
      "epoch #254\tmean reward = -83.730\tepsilon = 0.039\n",
      "epoch #255\tmean reward = -83.650\tepsilon = 0.039\n",
      "epoch #256\tmean reward = -82.990\tepsilon = 0.038\n",
      "epoch #257\tmean reward = -83.150\tepsilon = 0.038\n",
      "epoch #258\tmean reward = -81.530\tepsilon = 0.037\n",
      "epoch #259\tmean reward = -82.130\tepsilon = 0.037\n",
      "epoch #260\tmean reward = -83.650\tepsilon = 0.037\n"
     ]
    },
    {
     "ename": "KeyboardInterrupt",
     "evalue": "",
     "output_type": "error",
     "traceback": [
      "\u001b[0;31m---------------------------------------------------------------------------\u001b[0m",
      "\u001b[0;31mKeyboardInterrupt\u001b[0m                         Traceback (most recent call last)",
      "\u001b[0;32m<ipython-input-58-100324a4db82>\u001b[0m in \u001b[0;36m<module>\u001b[0;34m\u001b[0m\n\u001b[1;32m      1\u001b[0m \u001b[0;32mfor\u001b[0m \u001b[0mi\u001b[0m \u001b[0;32min\u001b[0m \u001b[0mrange\u001b[0m\u001b[0;34m(\u001b[0m\u001b[0;36m1000\u001b[0m\u001b[0;34m)\u001b[0m\u001b[0;34m:\u001b[0m\u001b[0;34m\u001b[0m\u001b[0m\n\u001b[0;32m----> 2\u001b[0;31m     \u001b[0msession_rewards\u001b[0m \u001b[0;34m=\u001b[0m \u001b[0;34m[\u001b[0m\u001b[0mgenerate_session\u001b[0m\u001b[0;34m(\u001b[0m\u001b[0mepsilon\u001b[0m\u001b[0;34m=\u001b[0m\u001b[0mepsilon\u001b[0m\u001b[0;34m,\u001b[0m \u001b[0mtrain\u001b[0m\u001b[0;34m=\u001b[0m\u001b[0;32mTrue\u001b[0m\u001b[0;34m)\u001b[0m \u001b[0;32mfor\u001b[0m \u001b[0m_\u001b[0m \u001b[0;32min\u001b[0m \u001b[0mrange\u001b[0m\u001b[0;34m(\u001b[0m\u001b[0;36m100\u001b[0m\u001b[0;34m)\u001b[0m\u001b[0;34m]\u001b[0m\u001b[0;34m\u001b[0m\u001b[0m\n\u001b[0m\u001b[1;32m      3\u001b[0m     \u001b[0mprint\u001b[0m\u001b[0;34m(\u001b[0m\u001b[0;34m\"epoch #{}\\tmean reward = {:.3f}\\tepsilon = {:.3f}\"\u001b[0m\u001b[0;34m.\u001b[0m\u001b[0mformat\u001b[0m\u001b[0;34m(\u001b[0m\u001b[0mi\u001b[0m\u001b[0;34m,\u001b[0m \u001b[0mnp\u001b[0m\u001b[0;34m.\u001b[0m\u001b[0mmean\u001b[0m\u001b[0;34m(\u001b[0m\u001b[0msession_rewards\u001b[0m\u001b[0;34m)\u001b[0m\u001b[0;34m,\u001b[0m \u001b[0mepsilon\u001b[0m\u001b[0;34m)\u001b[0m\u001b[0;34m)\u001b[0m\u001b[0;34m\u001b[0m\u001b[0m\n\u001b[1;32m      4\u001b[0m \u001b[0;34m\u001b[0m\u001b[0m\n\u001b[1;32m      5\u001b[0m     \u001b[0mepsilon\u001b[0m \u001b[0;34m*=\u001b[0m \u001b[0;36m0.99\u001b[0m\u001b[0;34m\u001b[0m\u001b[0m\n",
      "\u001b[0;32m<ipython-input-58-100324a4db82>\u001b[0m in \u001b[0;36m<listcomp>\u001b[0;34m(.0)\u001b[0m\n\u001b[1;32m      1\u001b[0m \u001b[0;32mfor\u001b[0m \u001b[0mi\u001b[0m \u001b[0;32min\u001b[0m \u001b[0mrange\u001b[0m\u001b[0;34m(\u001b[0m\u001b[0;36m1000\u001b[0m\u001b[0;34m)\u001b[0m\u001b[0;34m:\u001b[0m\u001b[0;34m\u001b[0m\u001b[0m\n\u001b[0;32m----> 2\u001b[0;31m     \u001b[0msession_rewards\u001b[0m \u001b[0;34m=\u001b[0m \u001b[0;34m[\u001b[0m\u001b[0mgenerate_session\u001b[0m\u001b[0;34m(\u001b[0m\u001b[0mepsilon\u001b[0m\u001b[0;34m=\u001b[0m\u001b[0mepsilon\u001b[0m\u001b[0;34m,\u001b[0m \u001b[0mtrain\u001b[0m\u001b[0;34m=\u001b[0m\u001b[0;32mTrue\u001b[0m\u001b[0;34m)\u001b[0m \u001b[0;32mfor\u001b[0m \u001b[0m_\u001b[0m \u001b[0;32min\u001b[0m \u001b[0mrange\u001b[0m\u001b[0;34m(\u001b[0m\u001b[0;36m100\u001b[0m\u001b[0;34m)\u001b[0m\u001b[0;34m]\u001b[0m\u001b[0;34m\u001b[0m\u001b[0m\n\u001b[0m\u001b[1;32m      3\u001b[0m     \u001b[0mprint\u001b[0m\u001b[0;34m(\u001b[0m\u001b[0;34m\"epoch #{}\\tmean reward = {:.3f}\\tepsilon = {:.3f}\"\u001b[0m\u001b[0;34m.\u001b[0m\u001b[0mformat\u001b[0m\u001b[0;34m(\u001b[0m\u001b[0mi\u001b[0m\u001b[0;34m,\u001b[0m \u001b[0mnp\u001b[0m\u001b[0;34m.\u001b[0m\u001b[0mmean\u001b[0m\u001b[0;34m(\u001b[0m\u001b[0msession_rewards\u001b[0m\u001b[0;34m)\u001b[0m\u001b[0;34m,\u001b[0m \u001b[0mepsilon\u001b[0m\u001b[0;34m)\u001b[0m\u001b[0;34m)\u001b[0m\u001b[0;34m\u001b[0m\u001b[0m\n\u001b[1;32m      4\u001b[0m \u001b[0;34m\u001b[0m\u001b[0m\n\u001b[1;32m      5\u001b[0m     \u001b[0mepsilon\u001b[0m \u001b[0;34m*=\u001b[0m \u001b[0;36m0.99\u001b[0m\u001b[0;34m\u001b[0m\u001b[0m\n",
      "\u001b[0;32m<ipython-input-34-fe34f7834adf>\u001b[0m in \u001b[0;36mgenerate_session\u001b[0;34m(t_max, epsilon, train)\u001b[0m\n\u001b[1;32m     11\u001b[0m             sess.run(train_step,{\n\u001b[1;32m     12\u001b[0m                 \u001b[0mstates_ph\u001b[0m\u001b[0;34m:\u001b[0m \u001b[0;34m[\u001b[0m\u001b[0ms\u001b[0m\u001b[0;34m]\u001b[0m\u001b[0;34m,\u001b[0m \u001b[0mactions_ph\u001b[0m\u001b[0;34m:\u001b[0m \u001b[0;34m[\u001b[0m\u001b[0ma\u001b[0m\u001b[0;34m]\u001b[0m\u001b[0;34m,\u001b[0m \u001b[0mrewards_ph\u001b[0m\u001b[0;34m:\u001b[0m \u001b[0;34m[\u001b[0m\u001b[0mr\u001b[0m\u001b[0;34m]\u001b[0m\u001b[0;34m,\u001b[0m\u001b[0;34m\u001b[0m\u001b[0m\n\u001b[0;32m---> 13\u001b[0;31m                 \u001b[0mnext_states_ph\u001b[0m\u001b[0;34m:\u001b[0m \u001b[0;34m[\u001b[0m\u001b[0mnext_s\u001b[0m\u001b[0;34m]\u001b[0m\u001b[0;34m,\u001b[0m \u001b[0mis_done_ph\u001b[0m\u001b[0;34m:\u001b[0m \u001b[0;34m[\u001b[0m\u001b[0mdone\u001b[0m\u001b[0;34m]\u001b[0m\u001b[0;34m\u001b[0m\u001b[0m\n\u001b[0m\u001b[1;32m     14\u001b[0m             })\n\u001b[1;32m     15\u001b[0m \u001b[0;34m\u001b[0m\u001b[0m\n",
      "\u001b[0;32m~/anaconda3/envs/python3_rl/lib/python3.6/site-packages/tensorflow/python/client/session.py\u001b[0m in \u001b[0;36mrun\u001b[0;34m(self, fetches, feed_dict, options, run_metadata)\u001b[0m\n\u001b[1;32m    875\u001b[0m     \u001b[0;32mtry\u001b[0m\u001b[0;34m:\u001b[0m\u001b[0;34m\u001b[0m\u001b[0m\n\u001b[1;32m    876\u001b[0m       result = self._run(None, fetches, feed_dict, options_ptr,\n\u001b[0;32m--> 877\u001b[0;31m                          run_metadata_ptr)\n\u001b[0m\u001b[1;32m    878\u001b[0m       \u001b[0;32mif\u001b[0m \u001b[0mrun_metadata\u001b[0m\u001b[0;34m:\u001b[0m\u001b[0;34m\u001b[0m\u001b[0m\n\u001b[1;32m    879\u001b[0m         \u001b[0mproto_data\u001b[0m \u001b[0;34m=\u001b[0m \u001b[0mtf_session\u001b[0m\u001b[0;34m.\u001b[0m\u001b[0mTF_GetBuffer\u001b[0m\u001b[0;34m(\u001b[0m\u001b[0mrun_metadata_ptr\u001b[0m\u001b[0;34m)\u001b[0m\u001b[0;34m\u001b[0m\u001b[0m\n",
      "\u001b[0;32m~/anaconda3/envs/python3_rl/lib/python3.6/site-packages/tensorflow/python/client/session.py\u001b[0m in \u001b[0;36m_run\u001b[0;34m(self, handle, fetches, feed_dict, options, run_metadata)\u001b[0m\n\u001b[1;32m   1035\u001b[0m       \u001b[0mfeed_dict\u001b[0m \u001b[0;34m=\u001b[0m \u001b[0mnest\u001b[0m\u001b[0;34m.\u001b[0m\u001b[0mflatten_dict_items\u001b[0m\u001b[0;34m(\u001b[0m\u001b[0mfeed_dict\u001b[0m\u001b[0;34m)\u001b[0m\u001b[0;34m\u001b[0m\u001b[0m\n\u001b[1;32m   1036\u001b[0m       \u001b[0;32mfor\u001b[0m \u001b[0mfeed\u001b[0m\u001b[0;34m,\u001b[0m \u001b[0mfeed_val\u001b[0m \u001b[0;32min\u001b[0m \u001b[0mfeed_dict\u001b[0m\u001b[0;34m.\u001b[0m\u001b[0mitems\u001b[0m\u001b[0;34m(\u001b[0m\u001b[0;34m)\u001b[0m\u001b[0;34m:\u001b[0m\u001b[0;34m\u001b[0m\u001b[0m\n\u001b[0;32m-> 1037\u001b[0;31m         \u001b[0;32mfor\u001b[0m \u001b[0msubfeed\u001b[0m\u001b[0;34m,\u001b[0m \u001b[0msubfeed_val\u001b[0m \u001b[0;32min\u001b[0m \u001b[0m_feed_fn\u001b[0m\u001b[0;34m(\u001b[0m\u001b[0mfeed\u001b[0m\u001b[0;34m,\u001b[0m \u001b[0mfeed_val\u001b[0m\u001b[0;34m)\u001b[0m\u001b[0;34m:\u001b[0m\u001b[0;34m\u001b[0m\u001b[0m\n\u001b[0m\u001b[1;32m   1038\u001b[0m           \u001b[0;32mtry\u001b[0m\u001b[0;34m:\u001b[0m\u001b[0;34m\u001b[0m\u001b[0m\n\u001b[1;32m   1039\u001b[0m             subfeed_t = self.graph.as_graph_element(\n",
      "\u001b[0;32m~/anaconda3/envs/python3_rl/lib/python3.6/site-packages/tensorflow/python/client/session.py\u001b[0m in \u001b[0;36m_feed_fn\u001b[0;34m(feed, feed_val)\u001b[0m\n\u001b[1;32m   1013\u001b[0m \u001b[0;34m\u001b[0m\u001b[0m\n\u001b[1;32m   1014\u001b[0m     \u001b[0;32mdef\u001b[0m \u001b[0m_feed_fn\u001b[0m\u001b[0;34m(\u001b[0m\u001b[0mfeed\u001b[0m\u001b[0;34m,\u001b[0m \u001b[0mfeed_val\u001b[0m\u001b[0;34m)\u001b[0m\u001b[0;34m:\u001b[0m\u001b[0;34m\u001b[0m\u001b[0m\n\u001b[0;32m-> 1015\u001b[0;31m       \u001b[0;32mfor\u001b[0m \u001b[0mtensor_type\u001b[0m\u001b[0;34m,\u001b[0m \u001b[0m_\u001b[0m\u001b[0;34m,\u001b[0m \u001b[0mfeed_fn\u001b[0m\u001b[0;34m,\u001b[0m \u001b[0m_\u001b[0m \u001b[0;32min\u001b[0m \u001b[0m_REGISTERED_EXPANSIONS\u001b[0m\u001b[0;34m:\u001b[0m\u001b[0;34m\u001b[0m\u001b[0m\n\u001b[0m\u001b[1;32m   1016\u001b[0m         \u001b[0;32mif\u001b[0m \u001b[0misinstance\u001b[0m\u001b[0;34m(\u001b[0m\u001b[0mfeed\u001b[0m\u001b[0;34m,\u001b[0m \u001b[0mtensor_type\u001b[0m\u001b[0;34m)\u001b[0m\u001b[0;34m:\u001b[0m\u001b[0;34m\u001b[0m\u001b[0m\n\u001b[1;32m   1017\u001b[0m           \u001b[0;32mreturn\u001b[0m \u001b[0mfeed_fn\u001b[0m\u001b[0;34m(\u001b[0m\u001b[0mfeed\u001b[0m\u001b[0;34m,\u001b[0m \u001b[0mfeed_val\u001b[0m\u001b[0;34m)\u001b[0m\u001b[0;34m\u001b[0m\u001b[0m\n",
      "\u001b[0;31mKeyboardInterrupt\u001b[0m: "
     ]
    }
   ],
   "source": [
    "for i in range(1000):\n",
    "    session_rewards = [generate_session(epsilon=epsilon, train=True) for _ in range(100)]\n",
    "    print(\"epoch #{}\\tmean reward = {:.3f}\\tepsilon = {:.3f}\".format(i, np.mean(session_rewards), epsilon))\n",
    "    \n",
    "    epsilon *= 0.99\n",
    "    assert epsilon >= 1e-4, \"Make sure epsilon is always nonzero during training\"\n",
    "    \n",
    "    if np.mean(session_rewards) > 300:\n",
    "        print (\"You Win!\")\n",
    "        break\n"
   ]
  },
  {
   "cell_type": "markdown",
   "metadata": {},
   "source": [
    "### How to interpret results\n",
    "\n",
    "\n",
    "Welcome to the f.. world of deep f...n reinforcement learning. Don't expect agent's reward to smoothly go up. Hope for it to go increase eventually. If it deems you worthy.\n",
    "\n",
    "Seriously though,\n",
    "* __ mean reward__ is the average reward per game. For a correct implementation it may stay low for some 10 epochs, then start growing while oscilating insanely and converges by ~50-100 steps depending on the network architecture. \n",
    "* If it never reaches target score by the end of for loop, try increasing the number of hidden neurons or look at the epsilon.\n",
    "* __ epsilon__ - agent's willingness to explore. If you see that agent's already at < 0.01 epsilon before it's is at least 200, just reset it back to 0.1 - 0.5."
   ]
  },
  {
   "cell_type": "markdown",
   "metadata": {},
   "source": [
    "### Record videos\n",
    "\n",
    "As usual, we now use `gym.wrappers.Monitor` to record a video of our agent playing the game. Unlike our previous attempts with state binarization, this time we expect our agent to act ~~(or fail)~~ more smoothly since there's no more binarization error at play.\n",
    "\n",
    "As you already did with tabular q-learning, we set epsilon=0 for final evaluation to prevent agent from exploring himself to death."
   ]
  },
  {
   "cell_type": "code",
   "execution_count": 59,
   "metadata": {
    "scrolled": true
   },
   "outputs": [
    {
     "name": "stderr",
     "output_type": "stream",
     "text": [
      "/Users/aivanou/anaconda3/envs/python3_rl/lib/python3.6/site-packages/gym/envs/registration.py:14: PkgResourcesDeprecationWarning: Parameters to load are deprecated.  Call .resolve and .require separately.\n",
      "  result = entry_point.load(False)\n"
     ]
    },
    {
     "name": "stdout",
     "output_type": "stream",
     "text": [
      "\u001b[33mWARN: gym.spaces.Box autodetected dtype as <class 'numpy.float32'>. Please provide explicit dtype.\u001b[0m\n"
     ]
    }
   ],
   "source": [
    "#record sessions\n",
    "import gym.wrappers\n",
    "# env = gym.wrappers.Monitor(gym.make(\"CartPole-v0\"),directory=\"videos\",force=True)\n",
    "# env = gym.wrappers.Monitor(gym.make(\"MountainCar-v0\"),directory=\"videos\",force=True)\n",
    "env = gym.wrappers.Monitor(gym.make(\"Acrobot-v1\"),directory=\"videos\",force=True)\n",
    "sessions = [generate_session(epsilon=0, train=False) for _ in range(100)]\n",
    "env.close()\n"
   ]
  },
  {
   "cell_type": "code",
   "execution_count": 60,
   "metadata": {},
   "outputs": [
    {
     "data": {
      "text/html": [
       "\n",
       "<video width=\"640\" height=\"480\" controls>\n",
       "  <source src=\"./videos/openaigym.video.7.76132.video000064.mp4\" type=\"video/mp4\">\n",
       "</video>\n"
      ],
      "text/plain": [
       "<IPython.core.display.HTML object>"
      ]
     },
     "execution_count": 60,
     "metadata": {},
     "output_type": "execute_result"
    }
   ],
   "source": [
    "#show video\n",
    "from IPython.display import HTML\n",
    "import os\n",
    "\n",
    "video_names = list(filter(lambda s:s.endswith(\".mp4\"),os.listdir(\"./videos/\")))\n",
    "\n",
    "HTML(\"\"\"\n",
    "<video width=\"640\" height=\"480\" controls>\n",
    "  <source src=\"{}\" type=\"video/mp4\">\n",
    "</video>\n",
    "\"\"\".format(\"./videos/\"+video_names[-1])) #this may or may not be _last_ video. Try other indices"
   ]
  },
  {
   "cell_type": "code",
   "execution_count": null,
   "metadata": {
    "collapsed": true
   },
   "outputs": [],
   "source": []
  },
  {
   "cell_type": "markdown",
   "metadata": {},
   "source": [
    "---"
   ]
  },
  {
   "cell_type": "markdown",
   "metadata": {
    "collapsed": true
   },
   "source": [
    "### Submit to coursera"
   ]
  },
  {
   "cell_type": "code",
   "execution_count": null,
   "metadata": {
    "collapsed": true
   },
   "outputs": [],
   "source": [
    "from submit import submit_cartpole\n",
    "submit_cartpole(generate_session, <EMAIL>, <TOKEN>)"
   ]
  }
 ],
 "metadata": {
  "anaconda-cloud": {},
  "kernelspec": {
   "display_name": "Python 3 rl",
   "language": "python",
   "name": "python3_rl"
  },
  "language_info": {
   "codemirror_mode": {
    "name": "ipython",
    "version": 3
   },
   "file_extension": ".py",
   "mimetype": "text/x-python",
   "name": "python",
   "nbconvert_exporter": "python",
   "pygments_lexer": "ipython3",
   "version": "3.6.6"
  }
 },
 "nbformat": 4,
 "nbformat_minor": 1
}
